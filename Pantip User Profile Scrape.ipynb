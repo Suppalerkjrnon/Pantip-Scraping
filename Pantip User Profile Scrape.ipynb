{
 "cells": [
  {
   "cell_type": "markdown",
   "metadata": {},
   "source": [
    "# Import"
   ]
  },
  {
   "cell_type": "code",
   "execution_count": 2,
   "metadata": {},
   "outputs": [],
   "source": [
    "import requests\n",
    "from bs4 import BeautifulSoup\n",
    "\n",
    "from selenium import webdriver\n",
    "from selenium.webdriver.common.by import By\n",
    "from selenium.webdriver.chrome.service import Service\n",
    "from selenium.webdriver.chrome.options import Options\n",
    "from webdriver_manager.chrome import ChromeDriverManager\n",
    "from bs4 import BeautifulSoup\n",
    "import time\n",
    "from tqdm.notebook import tqdm \n",
    "import re"
   ]
  },
  {
   "cell_type": "markdown",
   "metadata": {},
   "source": [
    "# Function"
   ]
  },
  {
   "cell_type": "code",
   "execution_count": 3,
   "metadata": {},
   "outputs": [],
   "source": [
    "def scrape_pantip_profile(user_id):\n",
    "    # Set up Chrome options and WebDriver this need to use selenium for dynamic content\n",
    "    chrome_options = Options()\n",
    "    chrome_options.add_argument(\"--headless\")\n",
    "    driver = webdriver.Chrome(service=Service(ChromeDriverManager().install()), options=chrome_options)\n",
    "    \n",
    "    #Construct the url with take the user_id and construct the url string\n",
    "    url = f'http://www.pantip.com/profile/{user_id}#topics'\n",
    "    driver.get(url)\n",
    "    time.sleep(0.5)  #This can be adjusted, I put 0.5 just in case\n",
    "\n",
    "    # Define the url of web source\n",
    "    page_source = driver.page_source\n",
    "    soup = BeautifulSoup(page_source, 'html.parser')\n",
    "    # Close the WebDriver, to avoid memory leaks\n",
    "    driver.quit()\n",
    "\n",
    "    user_profile_information = {}\n",
    "\n",
    "    # Extract user profile information\n",
    "    user_name = soup.find('div', class_='b-block-title')\n",
    "    user_name_text = user_name.find('h3').get_text(strip=True) if user_name else None\n",
    "    user_profile_information['user_name'] = user_name_text\n",
    "\n",
    "    user_content = soup.find('div', class_='b-block-content')\n",
    "    if user_content:\n",
    "        user_avatar = user_content.find('div', class_='big_avatar')\n",
    "        user_avatar_url = user_avatar.find('img')['src'] if user_avatar else None\n",
    "        user_bio = user_content.find('div', class_='profile-bio small-txt-fixed')\n",
    "        user_bio_text = user_bio.find_all('span')\n",
    "        user_desc = user_bio.find('p', class_='profile-desc')\n",
    "        user_desc_text = user_desc.get_text(strip=True) if user_desc else None\n",
    "        user_profile_stat_container = user_content.find('div', class_='profile-stat')\n",
    "        if user_profile_stat_container:\n",
    "            # Get all the following and follower text\n",
    "            user_following_follower = user_profile_stat_container.get_text(strip=True)\n",
    "            # Extract the following and follower text, using regex to target the patterns\n",
    "            following_pattern = r'(ติดตาม)(\\d+)'\n",
    "            follower_pattern = r'(กำลังติดตาม)(\\d+)'\n",
    "            following = re.search(following_pattern, user_following_follower)\n",
    "            follower = re.search(follower_pattern, user_following_follower)\n",
    "            \n",
    "            user_profile_information = {\n",
    "                'user_name': user_name_text,\n",
    "                'user_avatar': user_avatar_url,\n",
    "                'user_bio': user_bio_text,\n",
    "                'user_desc': user_desc_text,\n",
    "                'follower': follower.group(2) if follower else '0',\n",
    "                'following': following.group(2) if following else '0'\n",
    "            }\n",
    "            \n",
    "    def extract_topic_index(url):\n",
    "        match = re.search(r'/topic/(\\d+)', url)\n",
    "        return match.group(1) if match else None\n",
    "            \n",
    "    profile_extracted_data = {}\n",
    "\n",
    "    # Find the wrapper containing the post titles\n",
    "    wrapper = soup.find('div', class_='post-list-wrapper')\n",
    "\n",
    "    if wrapper:\n",
    "        post_items = wrapper.find_all('div', class_='post-item')\n",
    "        \n",
    "        # Wrap post_items with tqdm for progress tracking\n",
    "        for post in tqdm(post_items, desc=\"Processing posts\"):\n",
    "            title_div = post.find('div', class_='post-item-title')\n",
    "            if title_div and title_div.find('a'):\n",
    "                title = title_div.find('a').get_text(strip=True)\n",
    "                post_url = title_div.find('a')['href']\n",
    "                # Extract topic id from the post url to be used as the key in the resulting dictionary\n",
    "                title_id = extract_topic_index(post_url)\n",
    "                \n",
    "                # Author information\n",
    "                owner_tag = post.find('div', class_='post-item-by')\n",
    "                owner_text = None\n",
    "                timestamp_text = None\n",
    "                if owner_tag:\n",
    "                    owner = owner_tag.find('span', class_='by-name')\n",
    "                    owner_text = owner.get_text(strip=True) if owner else None\n",
    "                    \n",
    "                    # Timestamp\n",
    "                    timestamp = owner_tag.find('span', class_='timestamp')\n",
    "                    if timestamp:\n",
    "                        timestamp_text = timestamp.find('abbr', class_='timeago')\n",
    "                        timestamp_text = timestamp_text['data-utime'] if timestamp_text else None\n",
    "                \n",
    "                # Comment count\n",
    "                comment_status = post.find('div', class_='post-item-status-i', title=lambda x: 'ความคิดเห็น' in x if x else False)\n",
    "                comment_text = comment_status.get_text(strip=True) if comment_status else '0'\n",
    "                \n",
    "                # Tag information\n",
    "                tags_data = post.find('div', class_='post-item-footer')\n",
    "                tag_list = tags_data.find('div', class_='post-item-taglist')\n",
    "                tag_title = None\n",
    "                tag_title_2 = None\n",
    "                if tag_list:\n",
    "                    tag_element = tag_list.find('a', class_='tag-title')\n",
    "                    if tag_element:\n",
    "                        tag_title = tag_element.get('data-tag')\n",
    "                        tag_title_2 = tag_element.get('href')\n",
    "                \n",
    "                #Topic id is a key of the profile_extracted_data\n",
    "                profile_extracted_data[title_id] = {\n",
    "                    'title': title,\n",
    "                    'url': post_url,\n",
    "                    'owner': owner_text,\n",
    "                    'timestamp': timestamp_text,\n",
    "                    'comment_count': comment_text,\n",
    "                    'tag': tag_title,\n",
    "                    'tag_url': tag_title_2\n",
    "                }\n",
    "\n",
    "    # Add the profile feed to the user profile information\n",
    "    user_profile_information['profile_feed'] = profile_extracted_data\n",
    "\n",
    "    return user_profile_information"
   ]
  },
  {
   "cell_type": "code",
   "execution_count": 4,
   "metadata": {},
   "outputs": [],
   "source": [
    "#We don't use the url anymore, because we can construct the url from the user_id\n",
    "# url = 'https://pantip.com/profile/6905372#topics'"
   ]
  },
  {
   "cell_type": "code",
   "execution_count": 5,
   "metadata": {},
   "outputs": [],
   "source": [
    "#This can be a list of user_id and we can use for loop to iterate over the list\n",
    "user_id = '6905372'"
   ]
  },
  {
   "cell_type": "code",
   "execution_count": 6,
   "metadata": {},
   "outputs": [
    {
     "data": {
      "application/vnd.jupyter.widget-view+json": {
       "model_id": "3aa95ec105f3435bb929c84272cbeae3",
       "version_major": 2,
       "version_minor": 0
      },
      "text/plain": [
       "Processing posts:   0%|          | 0/19 [00:00<?, ?it/s]"
      ]
     },
     "metadata": {},
     "output_type": "display_data"
    }
   ],
   "source": [
    "user_profile_information = scrape_pantip_profile(user_id)"
   ]
  },
  {
   "cell_type": "code",
   "execution_count": 9,
   "metadata": {},
   "outputs": [
    {
     "data": {
      "text/plain": [
       "{'title': 'เปิด 7 เหตุผลที่ผู้ชมรอดูละคร \"หวานรักต้องห้าม\" พ.ศ. 2567',\n",
       " 'url': 'https://pantip.com/topic/42783101',\n",
       " 'owner': 'สมาชิกหมายเลข 6905372',\n",
       " 'timestamp': '06/15/2024 22:12:48',\n",
       " 'comment_count': '33',\n",
       " 'tag': '3 HD (BEC)',\n",
       " 'tag_url': '/tag/3_HD_(BEC)'}"
      ]
     },
     "execution_count": 9,
     "metadata": {},
     "output_type": "execute_result"
    }
   ],
   "source": [
    "user_profile_information['profile_feed']['42783101']"
   ]
  },
  {
   "cell_type": "code",
   "execution_count": 10,
   "metadata": {},
   "outputs": [
    {
     "name": "stdout",
     "output_type": "stream",
     "text": [
      "Topic ID: 42783101\n",
      "{'title': 'เปิด 7 เหตุผลที่ผู้ชมรอดูละคร \"หวานรักต้องห้าม\" พ.ศ. 2567', 'url': 'https://pantip.com/topic/42783101', 'owner': 'สมาชิกหมายเลข 6905372', 'timestamp': '06/15/2024 22:12:48', 'comment_count': '33', 'tag': '3 HD (BEC)', 'tag_url': '/tag/3_HD_(BEC)'}\n",
      "\n",
      "\n",
      "Topic ID: 42743716\n",
      "{'title': 'ติเพื่อก่อ \"จนกว่าจะได้รักกัน\" ขอส่งสารไปถึงช่อง 3 จากแฟนช่องคนนี้', 'url': 'https://pantip.com/topic/42743716', 'owner': 'สมาชิกหมายเลข 6905372', 'timestamp': '05/29/2024 16:57:57', 'comment_count': '45', 'tag': '3 HD (BEC)', 'tag_url': '/tag/3_HD_(BEC)'}\n",
      "\n",
      "\n",
      "Topic ID: 42688621\n",
      "{'title': 'ขวัญฤทัย ปลุกความคึกคักให้ละครไทยสุดสัปดาห์', 'url': 'https://pantip.com/topic/42688621', 'owner': 'สมาชิกหมายเลข 6905372', 'timestamp': '05/04/2024 21:53:13', 'comment_count': '22', 'tag': '3 HD (BEC)', 'tag_url': '/tag/3_HD_(BEC)'}\n",
      "\n",
      "\n",
      "Topic ID: 42521503\n",
      "{'title': 'NAT เล่นท่ายาก แต่คะแนนนำโด่ง 10 10 10', 'url': 'https://pantip.com/topic/42521503', 'owner': 'สมาชิกหมายเลข 6905372', 'timestamp': '02/15/2024 16:41:19', 'comment_count': '3', 'tag': 'หุ้น', 'tag_url': '/tag/หุ้น'}\n",
      "\n",
      "\n",
      "Topic ID: 42350986\n",
      "{'title': 'สินค้า หรือบริการอะไรบ้าง ที่คุณเพิ่งชอบ เพิ่งเคยใช้จนติดใจ แล้วไม่กลับไปใช้ของเดิมอีกเลย', 'url': 'https://pantip.com/topic/42350986', 'owner': 'สมาชิกหมายเลข 6905372', 'timestamp': '11/18/2023 21:48:02', 'comment_count': '8', 'tag': 'ของหวาน', 'tag_url': '/tag/ของหวาน'}\n",
      "\n",
      "\n",
      "Topic ID: 42309131\n",
      "{'title': 'ธี่หยด หนังผีไทย นานแล้วที่ไม่ได้หลอนแบบนี้ในรอบหลายปี', 'url': 'https://pantip.com/topic/42309131', 'owner': 'สมาชิกหมายเลข 6905372', 'timestamp': '10/29/2023 21:40:24', 'comment_count': '8', 'tag': 'ภาพยนตร์ไทย', 'tag_url': '/tag/ภาพยนตร์ไทย'}\n",
      "\n",
      "\n",
      "Topic ID: 42276462\n",
      "{'title': 'มาแล้ววว ทายเรตติ้งละครตอนแรก พรหมลิขิต 2566 ช่อง 3', 'url': 'https://pantip.com/topic/42276462', 'owner': 'สมาชิกหมายเลข 6905372', 'timestamp': '10/14/2023 12:47:36', 'comment_count': '74', 'tag': '3 HD (BEC)', 'tag_url': '/tag/3_HD_(BEC)'}\n",
      "\n",
      "\n",
      "Topic ID: 42113765\n",
      "{'title': 'หนุ่มไทย U21 แพ้บัลแกเรีย 3-0 เซต หนุ่มไทยฟอร์มนี้ผ่านมั้ยครับ ?????', 'url': 'https://pantip.com/topic/42113765', 'owner': 'สมาชิกหมายเลข 6905372', 'timestamp': '07/11/2023 22:26:38', 'comment_count': '20', 'tag': 'วอลเลย์บอล', 'tag_url': '/tag/วอลเลย์บอล'}\n",
      "\n",
      "\n",
      "Topic ID: 42088916\n",
      "{'title': 'มาตาลดา ละครที่ดึงคนดูให้มาพบความสุขในการดูละคร', 'url': 'https://pantip.com/topic/42088916', 'owner': 'สมาชิกหมายเลข 6905372', 'timestamp': '06/26/2023 21:37:31', 'comment_count': '24', 'tag': 'ละครโทรทัศน์', 'tag_url': '/tag/ละครโทรทัศน์'}\n",
      "\n",
      "\n",
      "Topic ID: 41967512\n",
      "{'title': 'ซีรีย์วายไทยใจกล้า ช่องวันจะรับผิดชอบสังคมอย่างไร?', 'url': 'https://pantip.com/topic/41967512', 'owner': 'สมาชิกหมายเลข 6905372', 'timestamp': '04/16/2023 10:41:54', 'comment_count': '58', 'tag': 'ซีรีส์วาย', 'tag_url': '/tag/ซีรีส์วาย'}\n",
      "\n",
      "\n",
      "Topic ID: 41890895\n",
      "{'title': 'ทายเรตติ้งละครป่านางเสือ ตอนแรก 27 กุมภาพันธ์ 2566', 'url': 'https://pantip.com/topic/41890895', 'owner': 'สมาชิกหมายเลข 6905372', 'timestamp': '02/27/2023 16:33:16', 'comment_count': '12', 'tag': '3 HD (BEC)', 'tag_url': '/tag/3_HD_(BEC)'}\n",
      "\n",
      "\n",
      "Topic ID: 41806097\n",
      "{'title': 'เส้นทางสู่การประชุมผู้ถือหุ้นช่อง 3 หรือ BEC WORLD ประจำปี 2566', 'url': 'https://pantip.com/topic/41806097', 'owner': 'สมาชิกหมายเลข 6905372', 'timestamp': '01/03/2023 21:43:02', 'comment_count': '1', 'tag': 'หุ้น', 'tag_url': '/tag/หุ้น'}\n",
      "\n",
      "\n",
      "Topic ID: 41792903\n",
      "{'title': 'สยบทุกดราม่า ทุกกระแส ด้วยภาพเดียว', 'url': 'https://pantip.com/topic/41792903', 'owner': 'สมาชิกหมายเลข 6905372', 'timestamp': '12/25/2022 11:12:06', 'comment_count': '12', 'tag': 'โค้ชกีฬา', 'tag_url': '/tag/โค้ชกีฬา'}\n",
      "\n",
      "\n",
      "Topic ID: 41758559\n",
      "{'title': 'มาแล้ว!!! ทายเรตติ้งเปิดตัวตอนแรก ละครมัดหัวใจยัยซุปตาร์ 2565', 'url': 'https://pantip.com/topic/41758559', 'owner': 'สมาชิกหมายเลข 6905372', 'timestamp': '12/01/2022 18:03:55', 'comment_count': '30', 'tag': '3 HD (BEC)', 'tag_url': '/tag/3_HD_(BEC)'}\n",
      "\n",
      "\n",
      "Topic ID: 41728032\n",
      "{'title': 'เกินต้าน เบลล่า ราณี ไม่มีละครใหม่ ช่อง 3 ส่งละครรีรันรัว ๆ รับมงเจ้าแม่ละครรีรัน Tier 1 ประจำปี 2565', 'url': 'https://pantip.com/topic/41728032', 'owner': 'สมาชิกหมายเลข 6905372', 'timestamp': '11/12/2022 09:03:55', 'comment_count': '10', 'tag': '3 HD (BEC)', 'tag_url': '/tag/3_HD_(BEC)'}\n",
      "\n",
      "\n",
      "Topic ID: 41699031\n",
      "{'title': 'ทายเรตติ้งเปิดตัว ละคร \"ลายกินรี\" ช่อง 3 วันที่ 24 ตุลาคม 2565', 'url': 'https://pantip.com/topic/41699031', 'owner': 'สมาชิกหมายเลข 6905372', 'timestamp': '10/24/2022 19:20:52', 'comment_count': '46', 'tag': '3 HD (BEC)', 'tag_url': '/tag/3_HD_(BEC)'}\n",
      "\n",
      "\n",
      "Topic ID: 41562758\n",
      "{'title': 'วลีจากสมาชิกพันทิปของกระทู้เรตติ้งละคร', 'url': 'https://pantip.com/topic/41562758', 'owner': 'สมาชิกหมายเลข 6905372', 'timestamp': '07/31/2022 20:33:57', 'comment_count': '7', 'tag': 'ละครโทรทัศน์', 'tag_url': '/tag/ละครโทรทัศน์'}\n",
      "\n",
      "\n",
      "Topic ID: 41489269\n",
      "{'title': 'TIDLOR 30 บาทแล้ว แต่ก็คิดว่ายังแพงอยู่', 'url': 'https://pantip.com/topic/41489269', 'owner': 'สมาชิกหมายเลข 6905372', 'timestamp': '06/16/2022 17:02:00', 'comment_count': '2', 'tag': 'TIDLOR (หุ้น)', 'tag_url': '/tag/TIDLOR_(หุ้น)'}\n",
      "\n",
      "\n",
      "Topic ID: 41298326\n",
      "{'title': 'โหนกระแส รายการข่าวที่อาจจะไม่ใช่สื่อน้ำดี แต่เป็นความหวังของสังคมไทย', 'url': 'https://pantip.com/topic/41298326', 'owner': 'สมาชิกหมายเลข 6905372', 'timestamp': '03/04/2022 11:35:28', 'comment_count': '6', 'tag': 'พิธีกรรายการโทรทัศน์', 'tag_url': '/tag/พิธีกรรายการโทรทัศน์'}\n",
      "\n",
      "\n"
     ]
    }
   ],
   "source": [
    "user_profile_information['profile_feed']\n",
    "\n",
    "for topic_id in user_profile_information['profile_feed']:\n",
    "    print(f\"Topic ID: {topic_id}\")\n",
    "    print(user_profile_information['profile_feed'][topic_id])\n",
    "    print(\"\\n\")"
   ]
  },
  {
   "cell_type": "code",
   "execution_count": null,
   "metadata": {},
   "outputs": [],
   "source": []
  }
 ],
 "metadata": {
  "kernelspec": {
   "display_name": "data",
   "language": "python",
   "name": "python3"
  },
  "language_info": {
   "codemirror_mode": {
    "name": "ipython",
    "version": 3
   },
   "file_extension": ".py",
   "mimetype": "text/x-python",
   "name": "python",
   "nbconvert_exporter": "python",
   "pygments_lexer": "ipython3",
   "version": "3.11.4"
  }
 },
 "nbformat": 4,
 "nbformat_minor": 2
}
