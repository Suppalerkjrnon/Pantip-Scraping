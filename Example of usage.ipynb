{
 "cells": [
  {
   "cell_type": "markdown",
   "metadata": {},
   "source": [
    "# Import"
   ]
  },
  {
   "cell_type": "code",
   "execution_count": 4,
   "metadata": {},
   "outputs": [],
   "source": [
    "from PantipSearchQuery import PantipSearchQuery as psq\n",
    "import PantipCommentExtractor as pce"
   ]
  },
  {
   "cell_type": "code",
   "execution_count": 5,
   "metadata": {},
   "outputs": [
    {
     "name": "stderr",
     "output_type": "stream",
     "text": [
      "  9%|▉         | 1/11 [00:00<00:01,  5.68it/s]"
     ]
    },
    {
     "name": "stdout",
     "output_type": "stream",
     "text": [
      "Page 0 processed successfully.\n",
      "Page 1 processed successfully.\n",
      "Total results found: พบมากกว่า 10,000 กระทู้\n"
     ]
    },
    {
     "name": "stderr",
     "output_type": "stream",
     "text": [
      " 36%|███▋      | 4/11 [00:00<00:00,  8.05it/s]"
     ]
    },
    {
     "name": "stdout",
     "output_type": "stream",
     "text": [
      "Page 4 processed successfully.\n",
      "Page 3 processed successfully.\n"
     ]
    },
    {
     "name": "stderr",
     "output_type": "stream",
     "text": [
      " 55%|█████▍    | 6/11 [00:00<00:00,  9.05it/s]"
     ]
    },
    {
     "name": "stdout",
     "output_type": "stream",
     "text": [
      "Page 5 processed successfully.\n",
      "Page 2 processed successfully.\n"
     ]
    },
    {
     "name": "stderr",
     "output_type": "stream",
     "text": [
      " 73%|███████▎  | 8/11 [00:00<00:00,  9.52it/s]"
     ]
    },
    {
     "name": "stdout",
     "output_type": "stream",
     "text": [
      "Page 7 processed successfully.\n",
      "Page 10 processed successfully.\n"
     ]
    },
    {
     "name": "stderr",
     "output_type": "stream",
     "text": [
      " 91%|█████████ | 10/11 [00:01<00:00,  9.75it/s]"
     ]
    },
    {
     "name": "stdout",
     "output_type": "stream",
     "text": [
      "Page 9 processed successfully.\n",
      "Page 6 processed successfully.\n"
     ]
    },
    {
     "name": "stderr",
     "output_type": "stream",
     "text": [
      "100%|██████████| 11/11 [00:01<00:00,  8.80it/s]"
     ]
    },
    {
     "name": "stdout",
     "output_type": "stream",
     "text": [
      "Page 8 processed successfully.\n"
     ]
    },
    {
     "name": "stderr",
     "output_type": "stream",
     "text": [
      "\n"
     ]
    }
   ],
   "source": [
    "from PantipSearchQuery import PantipSearchQuery as psq\n",
    "\n",
    "keywords = 'เกม'\n",
    "\n",
    "query = psq(keyword=keywords, page_number=10, num_workers=5)\n",
    "\n",
    "results_dict = query.fetch_all_pages()"
   ]
  },
  {
   "cell_type": "code",
   "execution_count": 6,
   "metadata": {},
   "outputs": [
    {
     "name": "stderr",
     "output_type": "stream",
     "text": [
      "  9%|▉         | 1/11 [00:00<00:01,  7.78it/s]"
     ]
    },
    {
     "name": "stdout",
     "output_type": "stream",
     "text": [
      "Page 0 processed successfully.\n"
     ]
    },
    {
     "name": "stderr",
     "output_type": "stream",
     "text": [
      " 27%|██▋       | 3/11 [00:00<00:01,  7.09it/s]"
     ]
    },
    {
     "name": "stdout",
     "output_type": "stream",
     "text": [
      "Page 3 processed successfully.\n",
      "Page 1 processed successfully.\n",
      "Total results found: พบมากกว่า 10,000 กระทู้\n"
     ]
    },
    {
     "name": "stderr",
     "output_type": "stream",
     "text": [
      " 45%|████▌     | 5/11 [00:00<00:00,  8.61it/s]"
     ]
    },
    {
     "name": "stdout",
     "output_type": "stream",
     "text": [
      "Page 5 processed successfully.\n",
      "Page 2 processed successfully.\n"
     ]
    },
    {
     "name": "stderr",
     "output_type": "stream",
     "text": [
      " 55%|█████▍    | 6/11 [00:00<00:00,  9.03it/s]"
     ]
    },
    {
     "name": "stdout",
     "output_type": "stream",
     "text": [
      "Page 4 processed successfully.\n",
      "Page 6 processed successfully.\n"
     ]
    },
    {
     "name": "stderr",
     "output_type": "stream",
     "text": [
      " 82%|████████▏ | 9/11 [00:01<00:00,  9.64it/s]"
     ]
    },
    {
     "name": "stdout",
     "output_type": "stream",
     "text": [
      "Page 8 processed successfully.\n",
      "Page 10 processed successfully.\n"
     ]
    },
    {
     "name": "stderr",
     "output_type": "stream",
     "text": [
      "100%|██████████| 11/11 [00:01<00:00,  9.80it/s]"
     ]
    },
    {
     "name": "stdout",
     "output_type": "stream",
     "text": [
      "Page 7 processed successfully.\n",
      "Page 9 processed successfully.\n"
     ]
    },
    {
     "name": "stderr",
     "output_type": "stream",
     "text": [
      "100%|██████████| 11/11 [00:01<00:00,  8.86it/s]\n"
     ]
    }
   ],
   "source": [
    "keywords = 'ดูหนัง'\n",
    "\n",
    "query2 = psq(keyword=keywords, page_number=10, num_workers=5)\n",
    "\n",
    "results_dict2 = query2.fetch_all_pages()"
   ]
  },
  {
   "cell_type": "code",
   "execution_count": 7,
   "metadata": {},
   "outputs": [],
   "source": [
    "all_dict = [results_dict, results_dict2]\n",
    "\n",
    "#Combine all the results into a single dictionary\n",
    "combine_dict = {}\n",
    "\n",
    "for i, result in enumerate(all_dict):\n",
    "    combine_dict[i] = result"
   ]
  },
  {
   "cell_type": "code",
   "execution_count": 10,
   "metadata": {},
   "outputs": [
    {
     "name": "stdout",
     "output_type": "stream",
     "text": [
      "Number of futures: 2\n"
     ]
    },
    {
     "name": "stderr",
     "output_type": "stream",
     "text": [
      "  0%|          | 0/2 [00:00<?, ?it/s]"
     ]
    },
    {
     "name": "stdout",
     "output_type": "stream",
     "text": [
      "JSON decoding error for ดูหนัง: Expecting value: line 1 column 4 (char 3)\n"
     ]
    },
    {
     "name": "stderr",
     "output_type": "stream",
     "text": [
      "100%|██████████| 2/2 [00:13<00:00,  6.54s/it]\n"
     ]
    }
   ],
   "source": [
    "#Create instance of the class\n",
    "extractor = pce.PantipCommentExtractor(combine_dict)\n",
    "\n",
    "#Fetch comments for each keyword id\n",
    "max_workers = 10\n",
    "comment_dict = extractor.get_comment_ids(max_workers)"
   ]
  },
  {
   "cell_type": "markdown",
   "metadata": {},
   "source": [
    "# Results"
   ]
  },
  {
   "cell_type": "code",
   "execution_count": 17,
   "metadata": {},
   "outputs": [],
   "source": [
    "import pandas as pd\n",
    "from pandas import json_normalize\n",
    "\n",
    "comment_df = pd.DataFrame.from_dict({(i,j): comment_dict[i][j] \n",
    "                             for i in comment_dict.keys() \n",
    "                             for j in comment_dict[i].keys()},\n",
    "                            orient='index')"
   ]
  },
  {
   "cell_type": "code",
   "execution_count": 19,
   "metadata": {},
   "outputs": [
    {
     "data": {
      "text/html": [
       "<div>\n",
       "<style scoped>\n",
       "    .dataframe tbody tr th:only-of-type {\n",
       "        vertical-align: middle;\n",
       "    }\n",
       "\n",
       "    .dataframe tbody tr th {\n",
       "        vertical-align: top;\n",
       "    }\n",
       "\n",
       "    .dataframe thead th {\n",
       "        text-align: right;\n",
       "    }\n",
       "</style>\n",
       "<table border=\"1\" class=\"dataframe\">\n",
       "  <thead>\n",
       "    <tr style=\"text-align: right;\">\n",
       "      <th></th>\n",
       "      <th></th>\n",
       "      <th>count</th>\n",
       "      <th>check_pinit</th>\n",
       "      <th>paging</th>\n",
       "      <th>comments</th>\n",
       "    </tr>\n",
       "  </thead>\n",
       "  <tbody>\n",
       "    <tr>\n",
       "      <th rowspan=\"20\" valign=\"top\">เกม</th>\n",
       "      <th>42712360</th>\n",
       "      <td>2.0</td>\n",
       "      <td>false</td>\n",
       "      <td>{'page': 1, 'limit': 100, 'limit_reply': 5, 'l...</td>\n",
       "      <td>[{'_id': 109668951, 'comment_no': 1, 'user': {...</td>\n",
       "    </tr>\n",
       "    <tr>\n",
       "      <th>42749369</th>\n",
       "      <td>1.0</td>\n",
       "      <td>false</td>\n",
       "      <td>{'page': 1, 'limit': 100, 'limit_reply': 5, 'l...</td>\n",
       "      <td>[{'_id': 109952608, 'comment_no': 1, 'user': {...</td>\n",
       "    </tr>\n",
       "    <tr>\n",
       "      <th>42609432</th>\n",
       "      <td>2.0</td>\n",
       "      <td>false</td>\n",
       "      <td>{'page': 1, 'limit': 100, 'limit_reply': 5, 'l...</td>\n",
       "      <td>[{'_id': 109278401, 'comment_no': 1, 'user': {...</td>\n",
       "    </tr>\n",
       "    <tr>\n",
       "      <th>42647578</th>\n",
       "      <td>2.0</td>\n",
       "      <td>false</td>\n",
       "      <td>{'page': 1, 'limit': 100, 'limit_reply': 5, 'l...</td>\n",
       "      <td>[{'_id': 109285924, 'comment_no': 1, 'user': {...</td>\n",
       "    </tr>\n",
       "    <tr>\n",
       "      <th>42857684</th>\n",
       "      <td>1.0</td>\n",
       "      <td>false</td>\n",
       "      <td>{'page': 1, 'limit': 100, 'limit_reply': 5, 'l...</td>\n",
       "      <td>[{'_id': 110745646, 'comment_no': 1, 'user': {...</td>\n",
       "    </tr>\n",
       "    <tr>\n",
       "      <th>42601135</th>\n",
       "      <td>1.0</td>\n",
       "      <td>false</td>\n",
       "      <td>{'page': 1, 'limit': 100, 'limit_reply': 5, 'l...</td>\n",
       "      <td>[{'_id': 108944937, 'comment_no': 1, 'user': {...</td>\n",
       "    </tr>\n",
       "    <tr>\n",
       "      <th>42812515</th>\n",
       "      <td>3.0</td>\n",
       "      <td>false</td>\n",
       "      <td>{'page': 1, 'limit': 100, 'limit_reply': 5, 'l...</td>\n",
       "      <td>[{'_id': 110433645, 'comment_no': 1, 'user': {...</td>\n",
       "    </tr>\n",
       "    <tr>\n",
       "      <th>42777091</th>\n",
       "      <td>2.0</td>\n",
       "      <td>false</td>\n",
       "      <td>{'page': 1, 'limit': 100, 'limit_reply': 5, 'l...</td>\n",
       "      <td>[{'_id': 110154773, 'comment_no': 1, 'user': {...</td>\n",
       "    </tr>\n",
       "    <tr>\n",
       "      <th>42605210</th>\n",
       "      <td>2.0</td>\n",
       "      <td>false</td>\n",
       "      <td>{'page': 1, 'limit': 100, 'limit_reply': 5, 'l...</td>\n",
       "      <td>[{'_id': 109007749, 'comment_no': 1, 'user': {...</td>\n",
       "    </tr>\n",
       "    <tr>\n",
       "      <th>42692389</th>\n",
       "      <td>1.0</td>\n",
       "      <td>false</td>\n",
       "      <td>{'page': 1, 'limit': 100, 'limit_reply': 5, 'l...</td>\n",
       "      <td>[{'_id': 109528660, 'comment_no': 1, 'user': {...</td>\n",
       "    </tr>\n",
       "    <tr>\n",
       "      <th>42795574</th>\n",
       "      <td>1.0</td>\n",
       "      <td>false</td>\n",
       "      <td>{'page': 1, 'limit': 100, 'limit_reply': 5, 'l...</td>\n",
       "      <td>[{'_id': 110317049, 'comment_no': 1, 'user': {...</td>\n",
       "    </tr>\n",
       "    <tr>\n",
       "      <th>42730043</th>\n",
       "      <td>1.0</td>\n",
       "      <td>false</td>\n",
       "      <td>{'page': 1, 'limit': 100, 'limit_reply': 5, 'l...</td>\n",
       "      <td>[{'_id': 109808097, 'comment_no': 1, 'user': {...</td>\n",
       "    </tr>\n",
       "    <tr>\n",
       "      <th>42844806</th>\n",
       "      <td>2.0</td>\n",
       "      <td>false</td>\n",
       "      <td>{'page': 1, 'limit': 100, 'limit_reply': 5, 'l...</td>\n",
       "      <td>[{'_id': 110653186, 'comment_no': 1, 'user': {...</td>\n",
       "    </tr>\n",
       "    <tr>\n",
       "      <th>42769312</th>\n",
       "      <td>1.0</td>\n",
       "      <td>false</td>\n",
       "      <td>{'page': 1, 'limit': 100, 'limit_reply': 5, 'l...</td>\n",
       "      <td>[{'_id': 110112240, 'comment_no': 1, 'user': {...</td>\n",
       "    </tr>\n",
       "    <tr>\n",
       "      <th>42668550</th>\n",
       "      <td>1.0</td>\n",
       "      <td>false</td>\n",
       "      <td>{'page': 1, 'limit': 100, 'limit_reply': 5, 'l...</td>\n",
       "      <td>[{'_id': 109381513, 'comment_no': 1, 'user': {...</td>\n",
       "    </tr>\n",
       "    <tr>\n",
       "      <th>42858231</th>\n",
       "      <td>3.0</td>\n",
       "      <td>false</td>\n",
       "      <td>{'page': 1, 'limit': 100, 'limit_reply': 5, 'l...</td>\n",
       "      <td>[{'_id': 110740264, 'comment_no': 1, 'user': {...</td>\n",
       "    </tr>\n",
       "    <tr>\n",
       "      <th>42818560</th>\n",
       "      <td>1.0</td>\n",
       "      <td>false</td>\n",
       "      <td>{'page': 1, 'limit': 100, 'limit_reply': 5, 'l...</td>\n",
       "      <td>[{'_id': 110477822, 'comment_no': 1, 'user': {...</td>\n",
       "    </tr>\n",
       "    <tr>\n",
       "      <th>42686516</th>\n",
       "      <td>2.0</td>\n",
       "      <td>false</td>\n",
       "      <td>{'page': 1, 'limit': 100, 'limit_reply': 5, 'l...</td>\n",
       "      <td>[{'_id': 109488588, 'comment_no': 1, 'user': {...</td>\n",
       "    </tr>\n",
       "    <tr>\n",
       "      <th>42801241</th>\n",
       "      <td>2.0</td>\n",
       "      <td>false</td>\n",
       "      <td>{'page': 1, 'limit': 100, 'limit_reply': 5, 'l...</td>\n",
       "      <td>[{'_id': 110417147, 'comment_no': 1, 'user': {...</td>\n",
       "    </tr>\n",
       "    <tr>\n",
       "      <th>42745258</th>\n",
       "      <td>2.0</td>\n",
       "      <td>false</td>\n",
       "      <td>{'page': 1, 'limit': 100, 'limit_reply': 5, 'l...</td>\n",
       "      <td>[{'_id': 109918162, 'comment_no': 1, 'user': {...</td>\n",
       "    </tr>\n",
       "  </tbody>\n",
       "</table>\n",
       "</div>"
      ],
      "text/plain": [
       "              count check_pinit  \\\n",
       "เกม 42712360    2.0       false   \n",
       "    42749369    1.0       false   \n",
       "    42609432    2.0       false   \n",
       "    42647578    2.0       false   \n",
       "    42857684    1.0       false   \n",
       "    42601135    1.0       false   \n",
       "    42812515    3.0       false   \n",
       "    42777091    2.0       false   \n",
       "    42605210    2.0       false   \n",
       "    42692389    1.0       false   \n",
       "    42795574    1.0       false   \n",
       "    42730043    1.0       false   \n",
       "    42844806    2.0       false   \n",
       "    42769312    1.0       false   \n",
       "    42668550    1.0       false   \n",
       "    42858231    3.0       false   \n",
       "    42818560    1.0       false   \n",
       "    42686516    2.0       false   \n",
       "    42801241    2.0       false   \n",
       "    42745258    2.0       false   \n",
       "\n",
       "                                                         paging  \\\n",
       "เกม 42712360  {'page': 1, 'limit': 100, 'limit_reply': 5, 'l...   \n",
       "    42749369  {'page': 1, 'limit': 100, 'limit_reply': 5, 'l...   \n",
       "    42609432  {'page': 1, 'limit': 100, 'limit_reply': 5, 'l...   \n",
       "    42647578  {'page': 1, 'limit': 100, 'limit_reply': 5, 'l...   \n",
       "    42857684  {'page': 1, 'limit': 100, 'limit_reply': 5, 'l...   \n",
       "    42601135  {'page': 1, 'limit': 100, 'limit_reply': 5, 'l...   \n",
       "    42812515  {'page': 1, 'limit': 100, 'limit_reply': 5, 'l...   \n",
       "    42777091  {'page': 1, 'limit': 100, 'limit_reply': 5, 'l...   \n",
       "    42605210  {'page': 1, 'limit': 100, 'limit_reply': 5, 'l...   \n",
       "    42692389  {'page': 1, 'limit': 100, 'limit_reply': 5, 'l...   \n",
       "    42795574  {'page': 1, 'limit': 100, 'limit_reply': 5, 'l...   \n",
       "    42730043  {'page': 1, 'limit': 100, 'limit_reply': 5, 'l...   \n",
       "    42844806  {'page': 1, 'limit': 100, 'limit_reply': 5, 'l...   \n",
       "    42769312  {'page': 1, 'limit': 100, 'limit_reply': 5, 'l...   \n",
       "    42668550  {'page': 1, 'limit': 100, 'limit_reply': 5, 'l...   \n",
       "    42858231  {'page': 1, 'limit': 100, 'limit_reply': 5, 'l...   \n",
       "    42818560  {'page': 1, 'limit': 100, 'limit_reply': 5, 'l...   \n",
       "    42686516  {'page': 1, 'limit': 100, 'limit_reply': 5, 'l...   \n",
       "    42801241  {'page': 1, 'limit': 100, 'limit_reply': 5, 'l...   \n",
       "    42745258  {'page': 1, 'limit': 100, 'limit_reply': 5, 'l...   \n",
       "\n",
       "                                                       comments  \n",
       "เกม 42712360  [{'_id': 109668951, 'comment_no': 1, 'user': {...  \n",
       "    42749369  [{'_id': 109952608, 'comment_no': 1, 'user': {...  \n",
       "    42609432  [{'_id': 109278401, 'comment_no': 1, 'user': {...  \n",
       "    42647578  [{'_id': 109285924, 'comment_no': 1, 'user': {...  \n",
       "    42857684  [{'_id': 110745646, 'comment_no': 1, 'user': {...  \n",
       "    42601135  [{'_id': 108944937, 'comment_no': 1, 'user': {...  \n",
       "    42812515  [{'_id': 110433645, 'comment_no': 1, 'user': {...  \n",
       "    42777091  [{'_id': 110154773, 'comment_no': 1, 'user': {...  \n",
       "    42605210  [{'_id': 109007749, 'comment_no': 1, 'user': {...  \n",
       "    42692389  [{'_id': 109528660, 'comment_no': 1, 'user': {...  \n",
       "    42795574  [{'_id': 110317049, 'comment_no': 1, 'user': {...  \n",
       "    42730043  [{'_id': 109808097, 'comment_no': 1, 'user': {...  \n",
       "    42844806  [{'_id': 110653186, 'comment_no': 1, 'user': {...  \n",
       "    42769312  [{'_id': 110112240, 'comment_no': 1, 'user': {...  \n",
       "    42668550  [{'_id': 109381513, 'comment_no': 1, 'user': {...  \n",
       "    42858231  [{'_id': 110740264, 'comment_no': 1, 'user': {...  \n",
       "    42818560  [{'_id': 110477822, 'comment_no': 1, 'user': {...  \n",
       "    42686516  [{'_id': 109488588, 'comment_no': 1, 'user': {...  \n",
       "    42801241  [{'_id': 110417147, 'comment_no': 1, 'user': {...  \n",
       "    42745258  [{'_id': 109918162, 'comment_no': 1, 'user': {...  "
      ]
     },
     "execution_count": 19,
     "metadata": {},
     "output_type": "execute_result"
    }
   ],
   "source": [
    "comment_df.head(20)"
   ]
  },
  {
   "cell_type": "code",
   "execution_count": 20,
   "metadata": {},
   "outputs": [],
   "source": [
    "comment_df = comment_df.reset_index()"
   ]
  },
  {
   "cell_type": "code",
   "execution_count": 21,
   "metadata": {},
   "outputs": [],
   "source": [
    "#Extract all information in column that contain dictionary\n",
    "comment_df_flat = pd.concat([comment_df.drop(['comments'], axis=1), \n",
    "                             json_normalize(comment_df['comments'])], axis=1)"
   ]
  },
  {
   "cell_type": "code",
   "execution_count": 22,
   "metadata": {},
   "outputs": [
    {
     "data": {
      "text/html": [
       "<div>\n",
       "<style scoped>\n",
       "    .dataframe tbody tr th:only-of-type {\n",
       "        vertical-align: middle;\n",
       "    }\n",
       "\n",
       "    .dataframe tbody tr th {\n",
       "        vertical-align: top;\n",
       "    }\n",
       "\n",
       "    .dataframe thead th {\n",
       "        text-align: right;\n",
       "    }\n",
       "</style>\n",
       "<table border=\"1\" class=\"dataframe\">\n",
       "  <thead>\n",
       "    <tr style=\"text-align: right;\">\n",
       "      <th></th>\n",
       "      <th>level_0</th>\n",
       "      <th>level_1</th>\n",
       "      <th>count</th>\n",
       "      <th>check_pinit</th>\n",
       "      <th>paging</th>\n",
       "      <th>0</th>\n",
       "      <th>1</th>\n",
       "      <th>2</th>\n",
       "      <th>3</th>\n",
       "      <th>4</th>\n",
       "      <th>...</th>\n",
       "      <th>59</th>\n",
       "      <th>60</th>\n",
       "      <th>61</th>\n",
       "      <th>62</th>\n",
       "      <th>63</th>\n",
       "      <th>64</th>\n",
       "      <th>65</th>\n",
       "      <th>66</th>\n",
       "      <th>67</th>\n",
       "      <th>68</th>\n",
       "    </tr>\n",
       "  </thead>\n",
       "  <tbody>\n",
       "    <tr>\n",
       "      <th>0</th>\n",
       "      <td>เกม</td>\n",
       "      <td>42712360</td>\n",
       "      <td>2.0</td>\n",
       "      <td>false</td>\n",
       "      <td>{'page': 1, 'limit': 100, 'limit_reply': 5, 'l...</td>\n",
       "      <td>{'_id': 109668951, 'comment_no': 1, 'reply_cou...</td>\n",
       "      <td>{'_id': 109668952, 'comment_no': 2, 'reply_cou...</td>\n",
       "      <td>None</td>\n",
       "      <td>None</td>\n",
       "      <td>None</td>\n",
       "      <td>...</td>\n",
       "      <td>None</td>\n",
       "      <td>None</td>\n",
       "      <td>None</td>\n",
       "      <td>None</td>\n",
       "      <td>None</td>\n",
       "      <td>None</td>\n",
       "      <td>None</td>\n",
       "      <td>None</td>\n",
       "      <td>None</td>\n",
       "      <td>None</td>\n",
       "    </tr>\n",
       "    <tr>\n",
       "      <th>1</th>\n",
       "      <td>เกม</td>\n",
       "      <td>42749369</td>\n",
       "      <td>1.0</td>\n",
       "      <td>false</td>\n",
       "      <td>{'page': 1, 'limit': 100, 'limit_reply': 5, 'l...</td>\n",
       "      <td>{'_id': 109952608, 'comment_no': 1, 'reply_cou...</td>\n",
       "      <td>None</td>\n",
       "      <td>None</td>\n",
       "      <td>None</td>\n",
       "      <td>None</td>\n",
       "      <td>...</td>\n",
       "      <td>None</td>\n",
       "      <td>None</td>\n",
       "      <td>None</td>\n",
       "      <td>None</td>\n",
       "      <td>None</td>\n",
       "      <td>None</td>\n",
       "      <td>None</td>\n",
       "      <td>None</td>\n",
       "      <td>None</td>\n",
       "      <td>None</td>\n",
       "    </tr>\n",
       "    <tr>\n",
       "      <th>2</th>\n",
       "      <td>เกม</td>\n",
       "      <td>42609432</td>\n",
       "      <td>2.0</td>\n",
       "      <td>false</td>\n",
       "      <td>{'page': 1, 'limit': 100, 'limit_reply': 5, 'l...</td>\n",
       "      <td>{'_id': 109278401, 'comment_no': 1, 'reply_cou...</td>\n",
       "      <td>{'_id': 109343320, 'comment_no': 2, 'reply_cou...</td>\n",
       "      <td>None</td>\n",
       "      <td>None</td>\n",
       "      <td>None</td>\n",
       "      <td>...</td>\n",
       "      <td>None</td>\n",
       "      <td>None</td>\n",
       "      <td>None</td>\n",
       "      <td>None</td>\n",
       "      <td>None</td>\n",
       "      <td>None</td>\n",
       "      <td>None</td>\n",
       "      <td>None</td>\n",
       "      <td>None</td>\n",
       "      <td>None</td>\n",
       "    </tr>\n",
       "    <tr>\n",
       "      <th>3</th>\n",
       "      <td>เกม</td>\n",
       "      <td>42647578</td>\n",
       "      <td>2.0</td>\n",
       "      <td>false</td>\n",
       "      <td>{'page': 1, 'limit': 100, 'limit_reply': 5, 'l...</td>\n",
       "      <td>{'_id': 109285924, 'comment_no': 1, 'reply_cou...</td>\n",
       "      <td>{'_id': 110132621, 'comment_no': 2, 'reply_cou...</td>\n",
       "      <td>None</td>\n",
       "      <td>None</td>\n",
       "      <td>None</td>\n",
       "      <td>...</td>\n",
       "      <td>None</td>\n",
       "      <td>None</td>\n",
       "      <td>None</td>\n",
       "      <td>None</td>\n",
       "      <td>None</td>\n",
       "      <td>None</td>\n",
       "      <td>None</td>\n",
       "      <td>None</td>\n",
       "      <td>None</td>\n",
       "      <td>None</td>\n",
       "    </tr>\n",
       "    <tr>\n",
       "      <th>4</th>\n",
       "      <td>เกม</td>\n",
       "      <td>42857684</td>\n",
       "      <td>1.0</td>\n",
       "      <td>false</td>\n",
       "      <td>{'page': 1, 'limit': 100, 'limit_reply': 5, 'l...</td>\n",
       "      <td>{'_id': 110745646, 'comment_no': 1, 'reply_cou...</td>\n",
       "      <td>None</td>\n",
       "      <td>None</td>\n",
       "      <td>None</td>\n",
       "      <td>None</td>\n",
       "      <td>...</td>\n",
       "      <td>None</td>\n",
       "      <td>None</td>\n",
       "      <td>None</td>\n",
       "      <td>None</td>\n",
       "      <td>None</td>\n",
       "      <td>None</td>\n",
       "      <td>None</td>\n",
       "      <td>None</td>\n",
       "      <td>None</td>\n",
       "      <td>None</td>\n",
       "    </tr>\n",
       "  </tbody>\n",
       "</table>\n",
       "<p>5 rows × 74 columns</p>\n",
       "</div>"
      ],
      "text/plain": [
       "  level_0   level_1  count check_pinit  \\\n",
       "0     เกม  42712360    2.0       false   \n",
       "1     เกม  42749369    1.0       false   \n",
       "2     เกม  42609432    2.0       false   \n",
       "3     เกม  42647578    2.0       false   \n",
       "4     เกม  42857684    1.0       false   \n",
       "\n",
       "                                              paging  \\\n",
       "0  {'page': 1, 'limit': 100, 'limit_reply': 5, 'l...   \n",
       "1  {'page': 1, 'limit': 100, 'limit_reply': 5, 'l...   \n",
       "2  {'page': 1, 'limit': 100, 'limit_reply': 5, 'l...   \n",
       "3  {'page': 1, 'limit': 100, 'limit_reply': 5, 'l...   \n",
       "4  {'page': 1, 'limit': 100, 'limit_reply': 5, 'l...   \n",
       "\n",
       "                                                   0  \\\n",
       "0  {'_id': 109668951, 'comment_no': 1, 'reply_cou...   \n",
       "1  {'_id': 109952608, 'comment_no': 1, 'reply_cou...   \n",
       "2  {'_id': 109278401, 'comment_no': 1, 'reply_cou...   \n",
       "3  {'_id': 109285924, 'comment_no': 1, 'reply_cou...   \n",
       "4  {'_id': 110745646, 'comment_no': 1, 'reply_cou...   \n",
       "\n",
       "                                                   1     2     3     4  ...  \\\n",
       "0  {'_id': 109668952, 'comment_no': 2, 'reply_cou...  None  None  None  ...   \n",
       "1                                               None  None  None  None  ...   \n",
       "2  {'_id': 109343320, 'comment_no': 2, 'reply_cou...  None  None  None  ...   \n",
       "3  {'_id': 110132621, 'comment_no': 2, 'reply_cou...  None  None  None  ...   \n",
       "4                                               None  None  None  None  ...   \n",
       "\n",
       "     59    60    61    62    63    64    65    66    67    68  \n",
       "0  None  None  None  None  None  None  None  None  None  None  \n",
       "1  None  None  None  None  None  None  None  None  None  None  \n",
       "2  None  None  None  None  None  None  None  None  None  None  \n",
       "3  None  None  None  None  None  None  None  None  None  None  \n",
       "4  None  None  None  None  None  None  None  None  None  None  \n",
       "\n",
       "[5 rows x 74 columns]"
      ]
     },
     "execution_count": 22,
     "metadata": {},
     "output_type": "execute_result"
    }
   ],
   "source": [
    "comment_df_flat.head()"
   ]
  }
 ],
 "metadata": {
  "kernelspec": {
   "display_name": "data",
   "language": "python",
   "name": "python3"
  },
  "language_info": {
   "codemirror_mode": {
    "name": "ipython",
    "version": 3
   },
   "file_extension": ".py",
   "mimetype": "text/x-python",
   "name": "python",
   "nbconvert_exporter": "python",
   "pygments_lexer": "ipython3",
   "version": "3.11.4"
  }
 },
 "nbformat": 4,
 "nbformat_minor": 2
}
